{
 "cells": [
  {
   "cell_type": "code",
   "execution_count": 1,
   "id": "d2f064fc",
   "metadata": {},
   "outputs": [],
   "source": [
    "import tensorflow as tf\n",
    "import pandas as pd\n",
    "import random\n",
    "import json"
   ]
  },
  {
   "cell_type": "code",
   "execution_count": 2,
   "id": "94979463",
   "metadata": {},
   "outputs": [],
   "source": [
    "param_train = pd.read_table(\"C:\\\\Users\\\\hahoa\\\\Downloads\\\\VSL\\\\ParameterValuesTrain - Copy.txt\", header=None).iloc[:, :3].copy()"
   ]
  },
  {
   "cell_type": "code",
   "execution_count": 3,
   "id": "df4092e5",
   "metadata": {},
   "outputs": [
    {
     "data": {
      "text/html": [
       "<div>\n",
       "<style scoped>\n",
       "    .dataframe tbody tr th:only-of-type {\n",
       "        vertical-align: middle;\n",
       "    }\n",
       "\n",
       "    .dataframe tbody tr th {\n",
       "        vertical-align: top;\n",
       "    }\n",
       "\n",
       "    .dataframe thead th {\n",
       "        text-align: right;\n",
       "    }\n",
       "</style>\n",
       "<table border=\"1\" class=\"dataframe\">\n",
       "  <thead>\n",
       "    <tr style=\"text-align: right;\">\n",
       "      <th></th>\n",
       "      <th>0</th>\n",
       "      <th>1</th>\n",
       "      <th>2</th>\n",
       "    </tr>\n",
       "  </thead>\n",
       "  <tbody>\n",
       "    <tr>\n",
       "      <th>count</th>\n",
       "      <td>1000.000000</td>\n",
       "      <td>1000.000000</td>\n",
       "      <td>1000.000000</td>\n",
       "    </tr>\n",
       "    <tr>\n",
       "      <th>mean</th>\n",
       "      <td>799.996405</td>\n",
       "      <td>300.151558</td>\n",
       "      <td>160.094889</td>\n",
       "    </tr>\n",
       "    <tr>\n",
       "      <th>std</th>\n",
       "      <td>3.513543</td>\n",
       "      <td>7.090110</td>\n",
       "      <td>6.984427</td>\n",
       "    </tr>\n",
       "    <tr>\n",
       "      <th>min</th>\n",
       "      <td>795.000215</td>\n",
       "      <td>290.001201</td>\n",
       "      <td>150.002797</td>\n",
       "    </tr>\n",
       "    <tr>\n",
       "      <th>25%</th>\n",
       "      <td>796.390535</td>\n",
       "      <td>292.798808</td>\n",
       "      <td>153.369619</td>\n",
       "    </tr>\n",
       "    <tr>\n",
       "      <th>50%</th>\n",
       "      <td>799.959553</td>\n",
       "      <td>300.780296</td>\n",
       "      <td>160.270891</td>\n",
       "    </tr>\n",
       "    <tr>\n",
       "      <th>75%</th>\n",
       "      <td>803.402808</td>\n",
       "      <td>307.113996</td>\n",
       "      <td>166.982453</td>\n",
       "    </tr>\n",
       "    <tr>\n",
       "      <th>max</th>\n",
       "      <td>804.999924</td>\n",
       "      <td>309.998747</td>\n",
       "      <td>169.999039</td>\n",
       "    </tr>\n",
       "  </tbody>\n",
       "</table>\n",
       "</div>"
      ],
      "text/plain": [
       "                 0            1            2\n",
       "count  1000.000000  1000.000000  1000.000000\n",
       "mean    799.996405   300.151558   160.094889\n",
       "std       3.513543     7.090110     6.984427\n",
       "min     795.000215   290.001201   150.002797\n",
       "25%     796.390535   292.798808   153.369619\n",
       "50%     799.959553   300.780296   160.270891\n",
       "75%     803.402808   307.113996   166.982453\n",
       "max     804.999924   309.998747   169.999039"
      ]
     },
     "execution_count": 3,
     "metadata": {},
     "output_type": "execute_result"
    }
   ],
   "source": [
    "param_train.describe()"
   ]
  },
  {
   "cell_type": "code",
   "execution_count": 4,
   "id": "99a6a14b",
   "metadata": {},
   "outputs": [
    {
     "data": {
      "text/plain": [
       "{'period_x': [], 'width': [], 'height': [], 'n_pix_x': [], 'n_pix_y': []}"
      ]
     },
     "execution_count": 4,
     "metadata": {},
     "output_type": "execute_result"
    }
   ],
   "source": [
    "f = open(\"C:\\\\Users\\\\hahoa\\\\Downloads\\\\VSL\\\\ParameterValuesTest.json\", \"r\")\n",
    "par_json = json.load(f)\n",
    "par_json"
   ]
  },
  {
   "cell_type": "code",
   "execution_count": 5,
   "id": "92dffb3f",
   "metadata": {},
   "outputs": [],
   "source": [
    "# parameters generators\n",
    "f = open(\"C:\\\\Users\\\\hahoa\\\\Downloads\\\\VSL\\\\ParameterValuesTest.json\", \"r\")\n",
    "par_json = json.load(f)\n",
    "par1_json = par_json\n",
    "for i in range(1000):\n",
    "    par1_json['period_x'].append(random.uniform(795, 805))\n",
    "    par1_json['width'].append(290)\n",
    "    par1_json['height'].append(150)\n",
    "    par1_json['n_pix_x'].append(5)\n",
    "    par1_json['n_pix_y'].append(5)"
   ]
  },
  {
   "cell_type": "code",
   "execution_count": 6,
   "id": "d4512270",
   "metadata": {},
   "outputs": [],
   "source": [
    "f = open(\"C:\\\\Users\\\\hahoa\\\\Downloads\\\\VSL\\\\ParameterValuesTest.json\", \"r\")\n",
    "par_json = json.load(f)\n",
    "par2_json = par_json\n",
    "for i in range(1000):\n",
    "    par2_json['period_x'].append(795)\n",
    "    par2_json['width'].append(random.uniform(290, 310))\n",
    "    par2_json['height'].append(150)\n",
    "    par2_json['n_pix_x'].append(5)\n",
    "    par2_json['n_pix_y'].append(5)"
   ]
  },
  {
   "cell_type": "code",
   "execution_count": 7,
   "id": "17c42a2b",
   "metadata": {},
   "outputs": [],
   "source": [
    "f = open(\"C:\\\\Users\\\\hahoa\\\\Downloads\\\\VSL\\\\ParameterValuesTest.json\", \"r\")\n",
    "par_json = json.load(f)\n",
    "par3_json = par_json\n",
    "for i in range(1000):\n",
    "    par3_json['period_x'].append(795)\n",
    "    par3_json['width'].append(290)\n",
    "    par3_json['height'].append(random.uniform(150, 170))\n",
    "    par3_json['n_pix_x'].append(5)\n",
    "    par3_json['n_pix_y'].append(5)"
   ]
  },
  {
   "cell_type": "code",
   "execution_count": 8,
   "id": "17ec99a3",
   "metadata": {},
   "outputs": [],
   "source": [
    "js1 = json.dumps(par1_json)\n",
    "js2 = json.dumps(par2_json)\n",
    "js3 = json.dumps(par3_json)"
   ]
  },
  {
   "cell_type": "code",
   "execution_count": 9,
   "id": "a448e8fd",
   "metadata": {},
   "outputs": [],
   "source": [
    "with open(\"js1.json\", \"w\") as outfile:\n",
    "    outfile.write(js1)"
   ]
  },
  {
   "cell_type": "code",
   "execution_count": 10,
   "id": "1c09f662",
   "metadata": {},
   "outputs": [],
   "source": [
    "with open(\"js2.json\", \"w\") as outfile:\n",
    "    outfile.write(js2)"
   ]
  },
  {
   "cell_type": "code",
   "execution_count": 11,
   "id": "688ff938",
   "metadata": {},
   "outputs": [],
   "source": [
    "with open(\"js3.json\", \"w\") as outfile:\n",
    "    outfile.write(js3)"
   ]
  },
  {
   "cell_type": "code",
   "execution_count": null,
   "id": "a99539da",
   "metadata": {},
   "outputs": [],
   "source": []
  }
 ],
 "metadata": {
  "kernelspec": {
   "display_name": "Python 3 (ipykernel)",
   "language": "python",
   "name": "python3"
  },
  "language_info": {
   "codemirror_mode": {
    "name": "ipython",
    "version": 3
   },
   "file_extension": ".py",
   "mimetype": "text/x-python",
   "name": "python",
   "nbconvert_exporter": "python",
   "pygments_lexer": "ipython3",
   "version": "3.9.12"
  }
 },
 "nbformat": 4,
 "nbformat_minor": 5
}
